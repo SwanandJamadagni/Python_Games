{
 "cells": [
  {
   "cell_type": "code",
   "execution_count": null,
   "metadata": {},
   "outputs": [],
   "source": [
    "# Black Jack "
   ]
  },
  {
   "cell_type": "code",
   "execution_count": 1,
   "metadata": {},
   "outputs": [],
   "source": [
    "import random\n",
    "from IPython.display import clear_output\n",
    "suits = ['Hearts', 'Spades', 'Diamonds', 'Clubs']\n",
    "ranks = ['Two', 'Three', 'Four', 'Five', 'Six', 'Seven', 'Eight', 'Nine', 'Ten', 'Jack', 'Queen', 'King', 'Ace']\n",
    "values = {'Two':2, 'Three':3, 'Four':4, 'Five':5, 'Six':6, 'Seven':7, 'Eight':8, 'Nine':9, 'Ten':10, 'Jack':10, 'Queen':10, 'King':10, 'Ace':0}\n",
    "bet_amount = 10\n",
    "all_cards = []"
   ]
  },
  {
   "cell_type": "code",
   "execution_count": 2,
   "metadata": {},
   "outputs": [],
   "source": [
    "class Card:\n",
    "    def __init__(self,suit,rank):\n",
    "        \n",
    "        self.suit = suit\n",
    "        self.rank = rank\n",
    "        self.value = values[rank]\n",
    "    \n",
    "    def __str__(self):\n",
    "        \n",
    "        return self.rank + \" \" + 'of' + \" \" + self.suit"
   ]
  },
  {
   "cell_type": "code",
   "execution_count": 3,
   "metadata": {},
   "outputs": [],
   "source": [
    "mycard = Card('Spades','Ten')"
   ]
  },
  {
   "cell_type": "code",
   "execution_count": 4,
   "metadata": {},
   "outputs": [
    {
     "name": "stdout",
     "output_type": "stream",
     "text": [
      "Ten of Spades\n"
     ]
    }
   ],
   "source": [
    "print(mycard)"
   ]
  },
  {
   "cell_type": "code",
   "execution_count": 5,
   "metadata": {},
   "outputs": [
    {
     "data": {
      "text/plain": [
       "10"
      ]
     },
     "execution_count": 5,
     "metadata": {},
     "output_type": "execute_result"
    }
   ],
   "source": [
    "mycard.value"
   ]
  },
  {
   "cell_type": "code",
   "execution_count": 6,
   "metadata": {},
   "outputs": [
    {
     "data": {
      "text/plain": [
       "10"
      ]
     },
     "execution_count": 6,
     "metadata": {},
     "output_type": "execute_result"
    }
   ],
   "source": [
    "values[mycard.rank]"
   ]
  },
  {
   "cell_type": "code",
   "execution_count": 22,
   "metadata": {},
   "outputs": [],
   "source": [
    "class Deck:\n",
    "    def __init__(self):\n",
    "        \n",
    "        global all_cards\n",
    "        \n",
    "        all_cards = []\n",
    "        \n",
    "        for suit in suits:\n",
    "            for rank in ranks:\n",
    "                card_created = Card(suit,rank)\n",
    "                all_cards.append(card_created)\n",
    "    \n",
    "    def shuffle(self):\n",
    "        global all_cards\n",
    "        random.shuffle(all_cards)\n",
    "        \n",
    "    def deal_one(self):\n",
    "        global all_cards\n",
    "        return all_cards.pop(0)"
   ]
  },
  {
   "cell_type": "code",
   "execution_count": 30,
   "metadata": {},
   "outputs": [],
   "source": [
    "new_deck = Deck()"
   ]
  },
  {
   "cell_type": "code",
   "execution_count": 41,
   "metadata": {},
   "outputs": [
    {
     "data": {
      "text/plain": [
       "48"
      ]
     },
     "execution_count": 41,
     "metadata": {},
     "output_type": "execute_result"
    }
   ],
   "source": [
    "len(all_cards)"
   ]
  },
  {
   "cell_type": "code",
   "execution_count": 25,
   "metadata": {},
   "outputs": [
    {
     "name": "stdout",
     "output_type": "stream",
     "text": [
      "Two of Hearts\n"
     ]
    }
   ],
   "source": [
    "print(all_cards[0])"
   ]
  },
  {
   "cell_type": "code",
   "execution_count": 26,
   "metadata": {},
   "outputs": [
    {
     "name": "stdout",
     "output_type": "stream",
     "text": [
      "Ace of Clubs\n"
     ]
    }
   ],
   "source": [
    "print(all_cards[-1])"
   ]
  },
  {
   "cell_type": "code",
   "execution_count": 32,
   "metadata": {},
   "outputs": [],
   "source": [
    "new_deck.shuffle()"
   ]
  },
  {
   "cell_type": "code",
   "execution_count": 28,
   "metadata": {},
   "outputs": [
    {
     "name": "stdout",
     "output_type": "stream",
     "text": [
      "Four of Diamonds\n"
     ]
    }
   ],
   "source": [
    "print(all_cards[0])"
   ]
  },
  {
   "cell_type": "code",
   "execution_count": 29,
   "metadata": {},
   "outputs": [
    {
     "name": "stdout",
     "output_type": "stream",
     "text": [
      "Six of Diamonds\n"
     ]
    }
   ],
   "source": [
    "print(all_cards[-1])"
   ]
  },
  {
   "cell_type": "code",
   "execution_count": 33,
   "metadata": {},
   "outputs": [
    {
     "name": "stdout",
     "output_type": "stream",
     "text": [
      "Four of Clubs\n"
     ]
    }
   ],
   "source": [
    "card_drawn = new_deck.deal_one()\n",
    "print(card_drawn)"
   ]
  },
  {
   "cell_type": "code",
   "execution_count": 10,
   "metadata": {},
   "outputs": [],
   "source": [
    "class Player:\n",
    "    def __init__(self,name,amount):\n",
    "        self.name = name\n",
    "        self.amount = amount\n",
    "        self.cards_drawn = []\n",
    "        \n",
    "    def __str__(self):\n",
    "        return f'Player_Nmae: {self.name} \\n Playing_Amount: {self.amount}'\n",
    "    \n",
    "    def PlayOn(self):\n",
    "        \n",
    "        print(f'Now {self.name} is playing\\n\\n')\n",
    "        choice = 'Y'\n",
    "        total = 0\n",
    "        \n",
    "        while choice == 'Y':\n",
    "        \n",
    "            if int(self.amount/10) > 0:\n",
    "\n",
    "                card_dealt = new_deck.deal_one()\n",
    "                self.cards_drawn.append(card_dealt)\n",
    "                self.amount = int(self.amount) - 10\n",
    "                \n",
    "                clear_output()\n",
    "                \n",
    "                print(\"Player's Cards:\\n\")\n",
    "                for cards in self.cards_drawn:\n",
    "                    print(cards)\n",
    "\n",
    "                if card_dealt.rank == 'Ace':\n",
    "                    ace_value = int(input(\"You have an Ace please choose the value 1 or 11: \\n\\n\"))\n",
    "                    total = total + ace_value\n",
    "                    #print(f'Your Current Total: {total}\\n')\n",
    "                    if total == 21:\n",
    "                        break\n",
    "                    elif total > 21:\n",
    "                        break\n",
    "                    else:\n",
    "                        choice = input(\"Do you want a hit? Y/N: \\n\\n\")\n",
    "                        continue\n",
    "                else:\n",
    "                    total = total + int(values[card_dealt.rank])\n",
    "                    #print(f'Your Current Total: {total}\\n')\n",
    "                    if total == 21:\n",
    "                        break\n",
    "                    elif total > 21:\n",
    "                        break\n",
    "                    else:\n",
    "                        choice = input(\"Do you want a hit? Y/N: \\n\\n\")\n",
    "                        continue\n",
    "                    \n",
    "            else:\n",
    "                print(\"Sorry you are out of playing capital\\n\\n\")\n",
    "                break\n",
    "                \n",
    "        return total"
   ]
  },
  {
   "cell_type": "code",
   "execution_count": 11,
   "metadata": {},
   "outputs": [],
   "source": [
    "class Dealer:\n",
    "    def __init__(self):\n",
    "        self.cards_drawn = []\n",
    "        \n",
    "    def PlayOn(self):\n",
    "        \n",
    "        print(\"Now dealer is playing\\n\\n\")\n",
    "        dealer_choice = 'Y'\n",
    "        dealer_total = 0\n",
    "        \n",
    "        while dealer_choice == 'Y':\n",
    "            \n",
    "            card_dealt = new_deck.deal_one()\n",
    "            self.cards_drawn.append(card_dealt)\n",
    "            \n",
    "            clear_output()\n",
    "            \n",
    "            print(\"Dealer's Cards:\\n\")\n",
    "            for cards in self.cards_drawn:\n",
    "                    print(cards)\n",
    "\n",
    "            if card_dealt.rank == 'Ace':\n",
    "                dealer_ace_value = int(input(\"You have an Ace please choose the value 1 or 11: \\n\\n\"))                \n",
    "                dealer_total = dealer_total + dealer_ace_value\n",
    "                #print(f'Current dealer Total: {dealer_total}\\n')\n",
    "                if dealer_total == 21:\n",
    "                    break\n",
    "                elif dealer_total > 21:\n",
    "                    break\n",
    "                else:\n",
    "                    dealer_choice = input(\"Does dealer wants to continue? Y/N: \\n\\n\")\n",
    "                    continue\n",
    "            else:\n",
    "                dealer_total = dealer_total + int(values[card_dealt.rank])\n",
    "                #print(f'Current dealer Total: {dealer_total}\\n')\n",
    "                if dealer_total == 21:\n",
    "                    break\n",
    "                elif dealer_total > 21:\n",
    "                    break\n",
    "                else:\n",
    "                    dealer_choice = input(\"Does dealer wants to continue? Y/N: \\n\\n\")\n",
    "                    continue\n",
    "                \n",
    "            if dealer_total == 21:\n",
    "                break\n",
    "            elif dealer_total > 21:\n",
    "                break\n",
    "\n",
    "        return dealer_total"
   ]
  },
  {
   "cell_type": "code",
   "execution_count": 35,
   "metadata": {},
   "outputs": [],
   "source": [
    "def Play_Game():\n",
    "    name = input(\"Please Enter Player's Name: \\n\\n\")\n",
    "\n",
    "    clear_output()\n",
    "\n",
    "    print(f'\\nWelcome to Black Jack {name}....!\\n\\n')\n",
    "\n",
    "    print(\"Amount required for each hit is $10\\n\\n\")\n",
    "\n",
    "    amount = int(input(\"Please Enter Playing Capital: \\n\\n\"))\n",
    "\n",
    "    player = Player(name,amount)\n",
    "\n",
    "    dealer = Dealer()\n",
    "\n",
    "    new_deck = Deck()\n",
    "\n",
    "    new_deck.shuffle()\n",
    "\n",
    "    total = 0\n",
    "    dealer_total = 0\n",
    "\n",
    "\n",
    "    player_choice = input(\"Do you want a hit? Y/N: \\n\\n\")\n",
    "\n",
    "    if player_choice == 'Y':\n",
    "\n",
    "        total = player.PlayOn()\n",
    "\n",
    "        if total > 0 and total < 21:\n",
    "\n",
    "            dealer_total = dealer.PlayOn()\n",
    "\n",
    "    elif player_choice == 'N':\n",
    "\n",
    "        print(\"Player decided to suspend the Game.\\n\\n\")\n",
    "        print(f'{name} total: {total}/ndealer total: {dealer_total}\\n\\n')\n",
    "\n",
    "    else:\n",
    "\n",
    "        print(\"\\n\\nInvalid Choice....!\\n\\n\")\n",
    "\n",
    "\n",
    "    if total == 21:\n",
    "        print(f'Your Total is {total}, You Won....!\\n\\n')\n",
    "\n",
    "    elif total > 21:\n",
    "        print(f'Your Total is {total}, You Are Busted....!\\n\\n')\n",
    "\n",
    "    elif dealer_total == 21:\n",
    "        print(f'Dealer Total is {dealer_total}, Your Total is {total}, Dealer Won, You Lost....!\\n\\n')\n",
    "\n",
    "    elif dealer_total > 21:\n",
    "        print(f'Dealer Total is {dealer_total}, Your Total is {total}, Dealer Busted, You Won....!\\n\\n')\n",
    "\n",
    "    elif (21-total) > (21-dealer_total):\n",
    "        print(f'Dealer Total is {dealer_total}, Your Total is {total}, Dealer Lost, You Won....!\\n\\n')\n",
    "\n",
    "    elif (21-total) < (21-dealer_total):\n",
    "        print(f'Dealer Total is {dealer_total}, Your Total is {total}, Dealer Won, You Lost....!\\n\\n')"
   ]
  },
  {
   "cell_type": "code",
   "execution_count": 43,
   "metadata": {},
   "outputs": [
    {
     "name": "stdout",
     "output_type": "stream",
     "text": [
      "Dealer's Cards:\n",
      "\n",
      "Seven of Clubs\n",
      "Jack of Hearts\n",
      "Five of Spades\n",
      "Dealer Total is 22, Your Total is 20, Dealer Busted, You Won....!\n",
      "\n",
      "\n"
     ]
    }
   ],
   "source": [
    "Play_Game()"
   ]
  }
 ],
 "metadata": {
  "kernelspec": {
   "display_name": "Python 3",
   "language": "python",
   "name": "python3"
  },
  "language_info": {
   "codemirror_mode": {
    "name": "ipython",
    "version": 3
   },
   "file_extension": ".py",
   "mimetype": "text/x-python",
   "name": "python",
   "nbconvert_exporter": "python",
   "pygments_lexer": "ipython3",
   "version": "3.7.4"
  }
 },
 "nbformat": 4,
 "nbformat_minor": 2
}
