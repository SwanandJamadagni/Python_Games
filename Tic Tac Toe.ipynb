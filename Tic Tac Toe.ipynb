{
 "cells": [
  {
   "cell_type": "code",
   "execution_count": 1,
   "metadata": {},
   "outputs": [],
   "source": [
    "from IPython.display import clear_output"
   ]
  },
  {
   "cell_type": "code",
   "execution_count": 2,
   "metadata": {},
   "outputs": [],
   "source": [
    "p1n = ''\n",
    "p2n = ''\n",
    "p1s = ''\n",
    "p2s = ''\n",
    "p1p = 0\n",
    "p2p = 0\n",
    "p1w = ['','','']\n",
    "p2w = ['','','']\n",
    "BL = ['#','','','','','','','','','']"
   ]
  },
  {
   "cell_type": "code",
   "execution_count": 3,
   "metadata": {},
   "outputs": [],
   "source": [
    "def print_board(BL):\n",
    "    col = {'1':'   '+BL[1]+'   |   '+BL[2]+'   |   '+BL[3]+'   ',\n",
    "          '2':'   '+BL[4]+'   |   '+BL[5]+'   |   '+BL[6]+'   ',\n",
    "          '3':'   '+BL[7]+'   |   '+BL[8]+'   |   '+BL[9]+'   '}\n",
    "    row = '-'*25\n",
    "    box = (col['3']+'\\n'+row+'\\n'+col['2']+'\\n'+row+'\\n'+col['1'])\n",
    "    print(box)"
   ]
  },
  {
   "cell_type": "code",
   "execution_count": 4,
   "metadata": {},
   "outputs": [],
   "source": [
    "def player_info():\n",
    "    global p1n, p2n, p1s, p2s, p1w, p2w\n",
    "    p1n = input('Please enter name for Player1: ').upper()\n",
    "    clear_output()\n",
    "    p2n = input('Please enter name for Player2: ').upper()\n",
    "    clear_output()\n",
    "    p1s = input(f'{p1n} What would you like to be X or O').upper()\n",
    "    clear_output()\n",
    "    if p1s == 'X':\n",
    "        p2s = 'O'\n",
    "        print(p1n+' is '+p1s+'\\n'+p2n+' is '+p2s)\n",
    "    elif p1s == 'O':\n",
    "        p2s = 'X'\n",
    "        print('Player1 = '+p1+'\\nPlayer2 = '+p2)\n",
    "    else:\n",
    "        print('\\nInvalid Input...!\\nplease choose either X or O ')\n",
    "    \n",
    "    p1w = [p1s,p1s,p1s]\n",
    "    p2w = [p2s,p2s,p2s]"
   ]
  },
  {
   "cell_type": "code",
   "execution_count": 5,
   "metadata": {},
   "outputs": [],
   "source": [
    "def get_pos_p1():\n",
    "    global BL\n",
    "    p1p = int(input(f'{p1n} please enter the postion: '))\n",
    "    if BL[p1p] == '':\n",
    "        BL[p1p] = p1s\n",
    "        clear_output()\n",
    "        print_board(BL)\n",
    "    else:\n",
    "        print('Invalid position you lost your chance....')\n",
    "        \n",
    "\n",
    "def get_pos_p2():\n",
    "    global BL\n",
    "    p2p = int(input(f'{p2n} please enter the position: '))\n",
    "    if BL[p2p] == '':\n",
    "        BL[p2p] = p2s\n",
    "        clear_output()\n",
    "        print_board(BL)\n",
    "    else:\n",
    "        print('Invalid position you lost your chance....')"
   ]
  },
  {
   "cell_type": "code",
   "execution_count": 6,
   "metadata": {},
   "outputs": [],
   "source": [
    "def completion_check():\n",
    "    pc1 = [BL[1],BL[2],BL[3]]\n",
    "    pc2 = [BL[4],BL[5],BL[6]]\n",
    "    pc3 = [BL[7],BL[8],BL[9]]\n",
    "    pc4 = [BL[1],BL[4],BL[7]]\n",
    "    pc5 = [BL[2],BL[5],BL[8]]\n",
    "    pc6 = [BL[3],BL[6],BL[9]]\n",
    "    pc7 = [BL[1],BL[5],BL[9]]\n",
    "    pc8 = [BL[3],BL[5],BL[7]]\n",
    "\n",
    "    if p1w == pc1 or p1w == pc2 or p1w == pc3 or p1w == pc4 or p1w == pc5 or p1w == pc6 or p1w == pc7 or p1w == pc8:\n",
    "        return 'p1'\n",
    "    elif p2w == pc1 or p2w == pc2 or p2w == pc3 or p2w == pc4 or p2w == pc5 or p2w == pc6 or p2w == pc7 or p2w == pc8:\n",
    "        return 'p2'\n",
    "    elif BL[1] != '' and BL[2] != '' and BL[3] != '' and BL[4] != '' and BL[5] != '' and BL[6] != '' and BL[7] != '' and BL[8] != '' and BL[9] != '':\n",
    "        return 'draw'\n",
    "    else:\n",
    "        return 'go on'"
   ]
  },
  {
   "cell_type": "code",
   "execution_count": 7,
   "metadata": {},
   "outputs": [],
   "source": [
    "def play():\n",
    "    print_board(BL)\n",
    "    while True:\n",
    "        status = completion_check()\n",
    "        if status == 'go on':\n",
    "            get_pos_p1()\n",
    "            status = completion_check()\n",
    "            if status == 'go on':\n",
    "                get_pos_p2()\n",
    "                status = completion_check()\n",
    "                if status == 'p2':\n",
    "                    print(f'\\n\\n\\t Congratulations {p2n} Won The Match....\\n\\n')\n",
    "                    break\n",
    "                elif status == 'draw....':\n",
    "                    print('\\n\\n\\t Match Draw')\n",
    "                    break\n",
    "                elif status == 'go on':\n",
    "                    continue\n",
    "            elif status == 'p1':\n",
    "                print(f'\\n\\n\\t Congratulations {p1n} Won The Match....')\n",
    "                break\n",
    "            elif status == 'draw.....':\n",
    "                print('\\n\\n\\t Match Draw')\n",
    "                break\n",
    "        else:\n",
    "            print('Please restart the Game')\n",
    "            break"
   ]
  },
  {
   "cell_type": "code",
   "execution_count": 8,
   "metadata": {},
   "outputs": [],
   "source": [
    "def restart():\n",
    "    global BL\n",
    "    BL = ['#','','','','','','','','','']\n",
    "    play()"
   ]
  },
  {
   "cell_type": "code",
   "execution_count": 9,
   "metadata": {},
   "outputs": [],
   "source": [
    "def new_game():\n",
    "    global p1n, p2n, p1s, p2s, p1p, p2p, p1w, p2w, BL\n",
    "    p1n = ''\n",
    "    p2n = ''\n",
    "    p1s = ''\n",
    "    p2s = ''\n",
    "    p1p = 0\n",
    "    p2p = 0\n",
    "    p1w = ['','','']\n",
    "    p2w = ['','','']\n",
    "    BL = ['#','','','','','','','','','']\n",
    "    print('\\t\\t Weclome to Tic Tac Toe.....!\\n')\n",
    "    print('\\nTip: Use num pad for deciding position corresponding to tic tac toe board.')\n",
    "    player_info()\n",
    "    print('\\n')\n",
    "    play()"
   ]
  },
  {
   "cell_type": "code",
   "execution_count": 10,
   "metadata": {},
   "outputs": [
    {
     "name": "stdout",
     "output_type": "stream",
     "text": [
      "      |   X   |      \n",
      "-------------------------\n",
      "   O   |   X   |      \n",
      "-------------------------\n",
      "   O   |   X   |      \n",
      "\n",
      "\n",
      "\t Congratulations SWANAND Won The Match....\n"
     ]
    }
   ],
   "source": [
    "new_game()"
   ]
  }
 ],
 "metadata": {
  "kernelspec": {
   "display_name": "Python 3",
   "language": "python",
   "name": "python3"
  },
  "language_info": {
   "codemirror_mode": {
    "name": "ipython",
    "version": 3
   },
   "file_extension": ".py",
   "mimetype": "text/x-python",
   "name": "python",
   "nbconvert_exporter": "python",
   "pygments_lexer": "ipython3",
   "version": "3.7.4"
  }
 },
 "nbformat": 4,
 "nbformat_minor": 2
}
